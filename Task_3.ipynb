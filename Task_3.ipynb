{
  "nbformat": 4,
  "nbformat_minor": 0,
  "metadata": {
    "colab": {
      "provenance": [],
      "collapsed_sections": [
        "_0XlIaoVDrmV",
        "pstuCVszb8k1"
      ]
    },
    "kernelspec": {
      "name": "python3",
      "display_name": "Python 3"
    },
    "language_info": {
      "name": "python"
    }
  },
  "cells": [
    {
      "cell_type": "markdown",
      "source": [
        "# TASK 3"
      ],
      "metadata": {
        "id": "U1RAbIeyDoFM"
      }
    },
    {
      "cell_type": "markdown",
      "source": [
        "## Part (a)"
      ],
      "metadata": {
        "id": "_0XlIaoVDrmV"
      }
    },
    {
      "cell_type": "code",
      "execution_count": 2,
      "metadata": {
        "colab": {
          "base_uri": "https://localhost:8080/"
        },
        "id": "M_1iUqtVDIPr",
        "outputId": "9f06a115-81b2-497f-d99b-28ec11871285"
      },
      "outputs": [
        {
          "output_type": "stream",
          "name": "stdout",
          "text": [
            "Requirement already satisfied: pulp in /usr/local/lib/python3.10/dist-packages (2.9.0)\n"
          ]
        }
      ],
      "source": [
        "# Install and Import PuLP\n",
        "!pip install pulp\n",
        "import pulp"
      ]
    },
    {
      "cell_type": "code",
      "source": [
        "# Create the problem\n",
        "model = pulp.LpProblem(\"Preemptive_Goal_Programming\", pulp.LpMinimize)\n",
        "\n",
        "# Decision variables\n",
        "G = pulp.LpVariable(\"G\", lowBound=0)        # Gas tax rate (cents per gallon)\n",
        "T1 = pulp.LpVariable(\"T1\", lowBound=0)     # Tax rate for income up to $30,000 (percentage)\n",
        "T2 = pulp.LpVariable(\"T2\", lowBound=0)     # Tax rate for income above $30,000 (percentage)\n",
        "C = pulp.LpVariable(\"C\", lowBound=0)       # Spending cut (in billions of dollars)\n",
        "\n",
        "# Deviation variables\n",
        "# Goal 1\n",
        "d1_plus = pulp.LpVariable(\"d1_plus\", lowBound=0)  # Positive deviation for Goal 1\n",
        "d1_minus = pulp.LpVariable(\"d1_minus\", lowBound=0)  # Negative deviation for Goal 1\n",
        "# Goal 2\n",
        "d2_plus = pulp.LpVariable(\"d2_plus\", lowBound=0)  # Positive deviation for Goal 2\n",
        "# Goal 3\n",
        "d3_plus = pulp.LpVariable(\"d3_plus\", lowBound=0)  # Positive deviation for Goal 3\n",
        "# Goal 4\n",
        "d4_plus = pulp.LpVariable(\"d4_plus\", lowBound=0)  # Positive deviation for Goal 4\n",
        "\n",
        "# Objective function (Preemptive prioritization)\n",
        "# P1 >> P2 >> P3 >> P4 (use large weights to enforce priorities)\n",
        "P1, P2, P3, P4 = 1e6, 1e4, 1e2, 1\n",
        "model += P1 * d1_minus + P2 * d2_plus + P3 * d3_plus + P4 * d4_plus\n",
        "\n",
        "# Constraints\n",
        "# Goal 1: Balance the budget\n",
        "# Total revenue = 1.5G + 25T1 + 15T2 + C\n",
        "model += (1.5 * G) + 25 * T1 + 15 * T2 + C + d1_minus - d1_plus == 1000\n",
        "\n",
        "# Goal 2: Spending cut cap\n",
        "model += C + d2_plus == 150\n",
        "\n",
        "# Goal 3: Upper-Class Tax Cap\n",
        "# Tax from upper class = 0.5G + 5T1 + 15T2\n",
        "model += (0.5 * G) + 5 * T1 + 15 * T2 + d3_plus == 550\n",
        "\n",
        "# Goal 4: Lower-Class Tax Cap\n",
        "# Tax from lower class = G + 20T1\n",
        "model += G + 20 * T1 + d4_plus == 350\n",
        "\n",
        "# Additional constraint: T2 >= T1\n",
        "model += T2 >= T1\n",
        "\n",
        "# Solve the model\n",
        "model.solve()"
      ],
      "metadata": {
        "colab": {
          "base_uri": "https://localhost:8080/"
        },
        "id": "6pHHJufRDJdH",
        "outputId": "d92ffdd8-cbc8-4812-ab6f-e115a72ee3cf"
      },
      "execution_count": 3,
      "outputs": [
        {
          "output_type": "execute_result",
          "data": {
            "text/plain": [
              "1"
            ]
          },
          "metadata": {},
          "execution_count": 3
        }
      ]
    },
    {
      "cell_type": "code",
      "source": [
        "# Display results\n",
        "print(\"Status:\", pulp.LpStatus[model.status])\n",
        "print(\"Objective Value:\", pulp.value(model.objective))\n",
        "print(f\"G = {G.value()} cents\")\n",
        "print(f\"T1 = {T1.value()} %\")\n",
        "print(f\"T2 = {T2.value()} %\")\n",
        "print(f\"C = {C.value()} billion dollars\")\n",
        "print(f\"d1_plus = {d1_plus.value()}\")\n",
        "print(f\"d1_minus = {d1_minus.value()}\")\n",
        "print(f\"d2_plus = {d2_plus.value()}\")\n",
        "print(f\"d3_plus = {d3_plus.value()}\")\n",
        "print(f\"d4_plus = {d4_plus.value()}\")"
      ],
      "metadata": {
        "colab": {
          "base_uri": "https://localhost:8080/"
        },
        "id": "GAzEwEFzD1ur",
        "outputId": "b4e58d4d-e753-4705-cdf9-096501d3a1ad"
      },
      "execution_count": 4,
      "outputs": [
        {
          "output_type": "stream",
          "name": "stdout",
          "text": [
            "Status: Optimal\n",
            "Objective Value: 0.0\n",
            "G = 350.0 cents\n",
            "T1 = 0.0 %\n",
            "T2 = 25.0 %\n",
            "C = 150.0 billion dollars\n",
            "d1_plus = 50.0\n",
            "d1_minus = 0.0\n",
            "d2_plus = 0.0\n",
            "d3_plus = 0.0\n",
            "d4_plus = 0.0\n"
          ]
        }
      ]
    },
    {
      "cell_type": "markdown",
      "source": [
        "## Part (b)"
      ],
      "metadata": {
        "id": "pstuCVszb8k1"
      }
    },
    {
      "cell_type": "code",
      "source": [
        "import pandas as pd\n",
        "from pulp import LpProblem, LpVariable, LpMinimize, lpSum\n",
        "\n",
        "# Create the base model (already solved)\n",
        "model = pulp.LpProblem(\"Preemptive_Goal_Programming\", pulp.LpMinimize)\n",
        "G = pulp.LpVariable(\"G\", lowBound=0)\n",
        "T1 = pulp.LpVariable(\"T1\", lowBound=0)\n",
        "T2 = pulp.LpVariable(\"T2\", lowBound=0)\n",
        "C = pulp.LpVariable(\"C\", lowBound=0)\n",
        "d1_plus = pulp.LpVariable(\"d1_plus\", lowBound=0)\n",
        "d1_minus = pulp.LpVariable(\"d1_minus\", lowBound=0)\n",
        "d2_plus = pulp.LpVariable(\"d2_plus\", lowBound=0)\n",
        "d3_plus = pulp.LpVariable(\"d3_plus\", lowBound=0)\n",
        "d4_plus = pulp.LpVariable(\"d4_plus\", lowBound=0)\n",
        "\n",
        "P1, P2, P3, P4 = 1e6, 1e4, 1e2, 1\n",
        "model += P1 * d1_minus + P2 * d2_plus + P3 * d3_plus + P4 * d4_plus\n",
        "model += (1.5 * G) + 25 * T1 + 15 * T2 + C + d1_minus - d1_plus == 1000\n",
        "model += C + d2_plus == 150\n",
        "model += (0.5 * G) + 5 * T1 + 15 * T2 + d3_plus == 550\n",
        "model += G + 20 * T1 + d4_plus == 350\n",
        "model += T2 >= T1\n",
        "\n",
        "# Base values\n",
        "base_G, base_T1, base_T2, base_C = 350, 0, 25, 150\n",
        "\n",
        "# Sensitivity increments\n",
        "increments = [-20, -10, 0, 10, 20]\n",
        "\n",
        "# Results storage\n",
        "results = []\n",
        "\n",
        "for var_name, base_value in [(\"G\", base_G), (\"T1\", base_T1), (\"T2\", base_T2)]:\n",
        "    for change in increments:\n",
        "        # Adjust the variable\n",
        "        new_value = base_value * (1 + change / 100)\n",
        "\n",
        "        # Re-solve with the adjusted variable\n",
        "        if var_name == \"G\":\n",
        "            model += G == new_value\n",
        "        elif var_name == \"T1\":\n",
        "            model += T1 == new_value\n",
        "        elif var_name == \"T2\":\n",
        "            model += T2 == new_value\n",
        "\n",
        "        # Solve the modified model\n",
        "        model.solve()\n",
        "\n",
        "        # Store results\n",
        "        results.append({\n",
        "            \"Variable\": var_name,\n",
        "            \"Change (%)\": change,\n",
        "            \"G\": G.value(),\n",
        "            \"T1\": T1.value(),\n",
        "            \"T2\": T2.value(),\n",
        "            \"C\": C.value(),\n",
        "            \"Total Revenue\": 1.5 * G.value() + 25 * T1.value() + 15 * T2.value() + C.value(),\n",
        "            \"d1_plus\": d1_plus.value(),\n",
        "            \"d1_minus\": d1_minus.value(),\n",
        "            \"d2_plus\": d2_plus.value(),\n",
        "            \"d3_plus\": d3_plus.value(),\n",
        "            \"d4_plus\": d4_plus.value()\n",
        "        })\n",
        "\n",
        "# Convert results to DataFrame\n",
        "sensitivity_df = pd.DataFrame(results)\n",
        "\n",
        "# Display results\n",
        "print(sensitivity_df)"
      ],
      "metadata": {
        "colab": {
          "base_uri": "https://localhost:8080/"
        },
        "id": "Qk-x4XQXb-Mt",
        "outputId": "19073db4-8cf0-4196-a0bc-cd40b43108d5"
      },
      "execution_count": 5,
      "outputs": [
        {
          "output_type": "stream",
          "name": "stdout",
          "text": [
            "   Variable  Change (%)      G   T1         T2      C  Total Revenue  d1_plus  \\\n",
            "0         G         -20  280.0  3.5  26.166667  150.0    1050.000005     50.0   \n",
            "1         G         -10  315.0  0.0  26.166667  150.0    1015.000005      0.0   \n",
            "2         G           0  350.0  0.0  25.000000  150.0    1050.000000      0.0   \n",
            "3         G          10  385.0  0.0  23.833333  150.0    1084.999995      0.0   \n",
            "4         G          20  420.0  0.0  22.666667  150.0    1120.000005      0.0   \n",
            "5        T1         -20  420.0  0.0  22.666667  150.0    1120.000005      0.0   \n",
            "6        T1         -10  420.0  0.0  22.666667  150.0    1120.000005      0.0   \n",
            "7        T1           0  420.0  0.0  22.666667  150.0    1120.000005      0.0   \n",
            "8        T1          10  420.0  0.0  22.666667  150.0    1120.000005      0.0   \n",
            "9        T1          20  420.0  0.0  22.666667  150.0    1120.000005      0.0   \n",
            "10       T2         -20  420.0  0.0  22.666667  150.0    1120.000005      0.0   \n",
            "11       T2         -10  420.0  0.0  22.666667  150.0    1120.000005      0.0   \n",
            "12       T2           0  420.0  0.0  22.666667  150.0    1120.000005      0.0   \n",
            "13       T2          10  420.0  0.0  22.666667  150.0    1120.000005      0.0   \n",
            "14       T2          20  420.0  0.0  22.666667  150.0    1120.000005      0.0   \n",
            "\n",
            "    d1_minus  d2_plus  d3_plus  d4_plus  \n",
            "0        0.0      0.0      0.0      0.0  \n",
            "1        0.0      0.0      0.0      0.0  \n",
            "2        0.0      0.0      0.0      0.0  \n",
            "3        0.0      0.0      0.0      0.0  \n",
            "4        0.0      0.0      0.0      0.0  \n",
            "5        0.0      0.0      0.0      0.0  \n",
            "6        0.0      0.0      0.0      0.0  \n",
            "7        0.0      0.0      0.0      0.0  \n",
            "8        0.0      0.0      0.0      0.0  \n",
            "9        0.0      0.0      0.0      0.0  \n",
            "10       0.0      0.0      0.0      0.0  \n",
            "11       0.0      0.0      0.0      0.0  \n",
            "12       0.0      0.0      0.0      0.0  \n",
            "13       0.0      0.0      0.0      0.0  \n",
            "14       0.0      0.0      0.0      0.0  \n"
          ]
        }
      ]
    }
  ]
}